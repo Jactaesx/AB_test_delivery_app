{
 "cells": [
  {
   "cell_type": "code",
   "execution_count": 1,
   "metadata": {},
   "outputs": [],
   "source": [
    "import pandas as pd\n",
    "import numpy as np\n",
    "\n",
    "import matplotlib.pyplot as plt\n",
    "import seaborn as sns\n",
    "\n",
    "import scipy.stats as stats\n",
    "from scipy.stats import shapiro\n",
    "import pingouin as pg\n",
    "\n",
    "import warnings\n",
    "warnings.filterwarnings('ignore')"
   ]
  },
  {
   "cell_type": "markdown",
   "metadata": {},
   "source": [
    "##  Функции для статистических тестов"
   ]
  },
  {
   "cell_type": "code",
   "execution_count": 2,
   "metadata": {},
   "outputs": [],
   "source": [
    "# Функция для визуализации распределения и характера наблюдений\n",
    "\n",
    "def qqbox(test, control):\n",
    "    fig, axes = plt.subplots(2, 2, figsize=(10, 8))\n",
    "    \n",
    "    sns.boxplot(x=test, ax=axes[0, 0], palette='BuPu_r')\n",
    "    axes[0, 0].set_title('Наблюдения в тестовой группе')\n",
    "    sns.boxplot(x=control, ax=axes[0, 1], palette='BuPu_r')\n",
    "    axes[0, 1].set_title('Наблюдения в контрольной группе')\n",
    "\n",
    "    pg.qqplot(test, ax=axes[1, 0])\n",
    "    axes[1, 0].set_title('Распределение тестовой группы')\n",
    "    pg.qqplot(control, ax=axes[1, 1])\n",
    "    axes[1, 1].set_title('Распределение в контрольной группе')\n",
    "\n",
    "    plt.tight_layout()\n",
    "    plt.show()"
   ]
  },
  {
   "cell_type": "code",
   "execution_count": 3,
   "metadata": {},
   "outputs": [],
   "source": [
    "# Тест Шапиро-Уилка на нормальность распределения\n",
    "\n",
    "def normality(test, control):\n",
    "    # check normality\n",
    "    statisctic, p_test = stats.shapiro(test)\n",
    "    statisctic, p_control = stats.shapiro(control)\n",
    "    \n",
    "    if p_test < 0.05 and p_control < 0.05:\n",
    "        print('Распределение в обеих группах не принадлежит к нормальному')\n",
    "    elif p_test > 0.05 and p_control < 0.05:\n",
    "        print('Распределение в тестовой группе принадлежит к нормальному')\n",
    "    elif p_test < 0.05 and p_control > 0.05:\n",
    "        print('Распределение в контрольной группе принадлежит к нормальному')\n",
    "    else:\n",
    "        print('Распределение в обеих группах принадлежит к нормальному')\n",
    "        \n",
    "    print(f'p_value тестовой группы = {p_test}',\n",
    "          f\"p_value контрольной группы = {p_control}\", sep='\\n')"
   ]
  },
  {
   "cell_type": "code",
   "execution_count": 4,
   "metadata": {},
   "outputs": [],
   "source": [
    "# T-test func\n",
    "\n",
    "def t_test(test, control):\n",
    "    \n",
    "    # Визуализируем распределения\n",
    "    plt.figure(figsize=(10, 8))\n",
    "    sns.distplot(test)\n",
    "    sns.distplot(control)\n",
    "    plt.title('Распределения тестовой и контрольной групп')\n",
    "    plt.legend(['Тестовая группа', 'Контрольная группа'])\n",
    "    plt.show()\n",
    "\n",
    "    \n",
    "    # Количество наблюдений в каждой из групп\n",
    "    print(f'Наблюдений в тестовой группе: {test.shape[0]}',\n",
    "          f'Наблюдений в контрольной группе: {control.shape[0]}', sep='\\n')\n",
    "    \n",
    "    # Проверяем гомогенность дисперсий\n",
    "    statistic, pvalue_var = stats.levene(test, control)\n",
    "    \n",
    "    if pvalue_var > 0.05:\n",
    "        print('Дисперсии гомогенны')\n",
    "        # Т-тест с гомогенными дисперсиями\n",
    "        statistic, pvalue = stats.ttest_ind(test, control)\n",
    "    else:\n",
    "        print('Дисперсии гетерогенны')\n",
    "        # Т-тест с параметром equal_var=False\n",
    "        statistic, pvalue = stats.ttest_ind(test, control, equal_var=False)\n",
    "        \n",
    "        \n",
    "    # Выводим результаты теста\n",
    "    print('Результаты теста:')\n",
    "    print(f\"Статистика: {statistic}\")\n",
    "    print(f\"p-value: {pvalue}\")\n",
    "    \n",
    "    if pvalue > 0.05:\n",
    "        print(\"H0: A==B - Группы не различаются!\")\n",
    "    else:\n",
    "        print(\"H1: A!=B -  Группы статистически значимо различаются!\")"
   ]
  },
  {
   "cell_type": "code",
   "execution_count": 5,
   "metadata": {},
   "outputs": [],
   "source": [
    "# Bootstrap-функция\n",
    "\n",
    "def bootstrap(test, control):\n",
    "    from tqdm import tqdm\n",
    "    boot_len = max([len(test), len(control)])\n",
    "    means = []\n",
    "    \n",
    "    for _ in tqdm(range(10000)):\n",
    "        sample_test = test.sample(boot_len, replace=True).values\n",
    "        sample_control = control.sample(boot_len, replace=True).values\n",
    "        means.append(np.mean(sample_test - sample_control))\n",
    "        \n",
    "        df_means = pd.DataFrame(means)\n",
    "        \n",
    "        # Находим доверительный интервал  \n",
    "        borders = np.percentile(df_means, [2.5, 97.5])\n",
    "    \n",
    "    # Визуализируем результат\n",
    "    sns.distplot(df_means)\n",
    "    plt.title('Распределение разниц средних')\n",
    "    plt.rcParams['figure.figsize'] = (12, 6)\n",
    "    plt.vlines(0, ymin=0, ymax=0.003, linestyles='--', colors='red')  \n",
    "    plt.vlines(borders, ymin=0, ymax=0.003, linestyles='--', colors='grey')\n",
    "    plt.show()\n",
    "    \n",
    "    return print(f\"Доверительный интервал: {borders}\")"
   ]
  },
  {
   "cell_type": "markdown",
   "metadata": {},
   "source": [
    "## Посмотрим на данные"
   ]
  },
  {
   "cell_type": "code",
   "execution_count": 6,
   "metadata": {},
   "outputs": [],
   "source": [
    "orders = pd.read_csv('/mnt/HC_Volume_18315164/home-jupyter/jupyter-ki-k/STATS/datasets/ab_orders.csv')\n",
    "products = pd.read_csv('/mnt/HC_Volume_18315164/home-jupyter/jupyter-ki-k/STATS/datasets/ab_products.csv')\n",
    "user_data = pd.read_csv('/mnt/HC_Volume_18315164/home-jupyter/jupyter-ki-k/STATS/datasets/ab_users_data.csv')"
   ]
  },
  {
   "cell_type": "code",
   "execution_count": 7,
   "metadata": {},
   "outputs": [],
   "source": [
    "users_order = pd.merge(user_data, orders, on='order_id')"
   ]
  },
  {
   "cell_type": "code",
   "execution_count": 8,
   "metadata": {},
   "outputs": [],
   "source": [
    "users_order['product_ids'] = users_order['product_ids'].str.strip(\"{}\")\n",
    "users_order['product_ids'] = users_order['product_ids'].str.split(', ')"
   ]
  },
  {
   "cell_type": "code",
   "execution_count": 9,
   "metadata": {},
   "outputs": [],
   "source": [
    "exploded = users_order.explode('product_ids')"
   ]
  },
  {
   "cell_type": "code",
   "execution_count": 10,
   "metadata": {},
   "outputs": [],
   "source": [
    "exploded.rename(columns={'product_ids': 'product_id'}, inplace=True)"
   ]
  },
  {
   "cell_type": "code",
   "execution_count": 11,
   "metadata": {},
   "outputs": [],
   "source": [
    "exploded['product_id'] = exploded['product_id'].astype(int)"
   ]
  },
  {
   "cell_type": "code",
   "execution_count": 12,
   "metadata": {},
   "outputs": [
    {
     "data": {
      "text/html": [
       "<div>\n",
       "<style scoped>\n",
       "    .dataframe tbody tr th:only-of-type {\n",
       "        vertical-align: middle;\n",
       "    }\n",
       "\n",
       "    .dataframe tbody tr th {\n",
       "        vertical-align: top;\n",
       "    }\n",
       "\n",
       "    .dataframe thead th {\n",
       "        text-align: right;\n",
       "    }\n",
       "</style>\n",
       "<table border=\"1\" class=\"dataframe\">\n",
       "  <thead>\n",
       "    <tr style=\"text-align: right;\">\n",
       "      <th></th>\n",
       "      <th>user_id</th>\n",
       "      <th>order_id</th>\n",
       "      <th>action</th>\n",
       "      <th>time</th>\n",
       "      <th>date</th>\n",
       "      <th>group</th>\n",
       "      <th>creation_time</th>\n",
       "      <th>product_id</th>\n",
       "      <th>name</th>\n",
       "      <th>price</th>\n",
       "    </tr>\n",
       "  </thead>\n",
       "  <tbody>\n",
       "    <tr>\n",
       "      <th>0</th>\n",
       "      <td>964</td>\n",
       "      <td>1255</td>\n",
       "      <td>create_order</td>\n",
       "      <td>2022-08-26 00:00:19.000000</td>\n",
       "      <td>2022-08-26</td>\n",
       "      <td>0</td>\n",
       "      <td>2022-08-26 00:00:19.000000</td>\n",
       "      <td>75</td>\n",
       "      <td>сок ананасовый</td>\n",
       "      <td>120.0</td>\n",
       "    </tr>\n",
       "    <tr>\n",
       "      <th>1</th>\n",
       "      <td>987</td>\n",
       "      <td>1287</td>\n",
       "      <td>create_order</td>\n",
       "      <td>2022-08-26 00:31:36.000000</td>\n",
       "      <td>2022-08-26</td>\n",
       "      <td>0</td>\n",
       "      <td>2022-08-26 00:31:36.000000</td>\n",
       "      <td>75</td>\n",
       "      <td>сок ананасовый</td>\n",
       "      <td>120.0</td>\n",
       "    </tr>\n",
       "    <tr>\n",
       "      <th>2</th>\n",
       "      <td>1073</td>\n",
       "      <td>1403</td>\n",
       "      <td>create_order</td>\n",
       "      <td>2022-08-26 03:01:40.000000</td>\n",
       "      <td>2022-08-26</td>\n",
       "      <td>1</td>\n",
       "      <td>2022-08-26 03:01:40.000000</td>\n",
       "      <td>75</td>\n",
       "      <td>сок ананасовый</td>\n",
       "      <td>120.0</td>\n",
       "    </tr>\n",
       "    <tr>\n",
       "      <th>3</th>\n",
       "      <td>1089</td>\n",
       "      <td>1424</td>\n",
       "      <td>create_order</td>\n",
       "      <td>2022-08-26 04:01:22.000000</td>\n",
       "      <td>2022-08-26</td>\n",
       "      <td>1</td>\n",
       "      <td>2022-08-26 04:01:22.000000</td>\n",
       "      <td>75</td>\n",
       "      <td>сок ананасовый</td>\n",
       "      <td>120.0</td>\n",
       "    </tr>\n",
       "    <tr>\n",
       "      <th>4</th>\n",
       "      <td>1139</td>\n",
       "      <td>1495</td>\n",
       "      <td>create_order</td>\n",
       "      <td>2022-08-26 06:04:05.000000</td>\n",
       "      <td>2022-08-26</td>\n",
       "      <td>1</td>\n",
       "      <td>2022-08-26 06:04:05.000000</td>\n",
       "      <td>75</td>\n",
       "      <td>сок ананасовый</td>\n",
       "      <td>120.0</td>\n",
       "    </tr>\n",
       "  </tbody>\n",
       "</table>\n",
       "</div>"
      ],
      "text/plain": [
       "   user_id  order_id        action                        time        date  \\\n",
       "0      964      1255  create_order  2022-08-26 00:00:19.000000  2022-08-26   \n",
       "1      987      1287  create_order  2022-08-26 00:31:36.000000  2022-08-26   \n",
       "2     1073      1403  create_order  2022-08-26 03:01:40.000000  2022-08-26   \n",
       "3     1089      1424  create_order  2022-08-26 04:01:22.000000  2022-08-26   \n",
       "4     1139      1495  create_order  2022-08-26 06:04:05.000000  2022-08-26   \n",
       "\n",
       "   group               creation_time  product_id            name  price  \n",
       "0      0  2022-08-26 00:00:19.000000          75  сок ананасовый  120.0  \n",
       "1      0  2022-08-26 00:31:36.000000          75  сок ананасовый  120.0  \n",
       "2      1  2022-08-26 03:01:40.000000          75  сок ананасовый  120.0  \n",
       "3      1  2022-08-26 04:01:22.000000          75  сок ананасовый  120.0  \n",
       "4      1  2022-08-26 06:04:05.000000          75  сок ананасовый  120.0  "
      ]
     },
     "execution_count": 12,
     "metadata": {},
     "output_type": "execute_result"
    }
   ],
   "source": [
    "df = pd.merge(exploded, products, on='product_id')\n",
    "df.head()"
   ]
  },
  {
   "cell_type": "code",
   "execution_count": 13,
   "metadata": {},
   "outputs": [
    {
     "name": "stdout",
     "output_type": "stream",
     "text": [
      "<class 'pandas.core.frame.DataFrame'>\n",
      "Int64Index: 14569 entries, 0 to 14568\n",
      "Data columns (total 10 columns):\n",
      " #   Column         Non-Null Count  Dtype  \n",
      "---  ------         --------------  -----  \n",
      " 0   user_id        14569 non-null  int64  \n",
      " 1   order_id       14569 non-null  int64  \n",
      " 2   action         14569 non-null  object \n",
      " 3   time           14569 non-null  object \n",
      " 4   date           14569 non-null  object \n",
      " 5   group          14569 non-null  int64  \n",
      " 6   creation_time  14569 non-null  object \n",
      " 7   product_id     14569 non-null  int64  \n",
      " 8   name           14569 non-null  object \n",
      " 9   price          14569 non-null  float64\n",
      "dtypes: float64(1), int64(4), object(5)\n",
      "memory usage: 1.2+ MB\n"
     ]
    }
   ],
   "source": [
    "df.info()"
   ]
  },
  {
   "cell_type": "code",
   "execution_count": 14,
   "metadata": {},
   "outputs": [
    {
     "data": {
      "text/plain": [
       "user_id          0\n",
       "order_id         0\n",
       "action           0\n",
       "time             0\n",
       "date             0\n",
       "group            0\n",
       "creation_time    0\n",
       "product_id       0\n",
       "name             0\n",
       "price            0\n",
       "dtype: int64"
      ]
     },
     "execution_count": 14,
     "metadata": {},
     "output_type": "execute_result"
    }
   ],
   "source": [
    "df.isna().sum()"
   ]
  },
  {
   "cell_type": "code",
   "execution_count": 15,
   "metadata": {},
   "outputs": [
    {
     "data": {
      "text/plain": [
       "user_id            int64\n",
       "order_id           int64\n",
       "action            object\n",
       "time              object\n",
       "date              object\n",
       "group              int64\n",
       "creation_time     object\n",
       "product_id         int64\n",
       "name              object\n",
       "price            float64\n",
       "dtype: object"
      ]
     },
     "execution_count": 15,
     "metadata": {},
     "output_type": "execute_result"
    }
   ],
   "source": [
    "df.dtypes"
   ]
  },
  {
   "cell_type": "code",
   "execution_count": 16,
   "metadata": {},
   "outputs": [
    {
     "data": {
      "text/plain": [
       "(14569, 10)"
      ]
     },
     "execution_count": 16,
     "metadata": {},
     "output_type": "execute_result"
    }
   ],
   "source": [
    "df.shape"
   ]
  },
  {
   "cell_type": "code",
   "execution_count": 17,
   "metadata": {},
   "outputs": [],
   "source": [
    "# Оставим только те колонки, с которыми будем работать\n",
    "df = df[['user_id', 'order_id', 'action', 'group', 'product_id', 'name', 'price']]"
   ]
  },
  {
   "cell_type": "code",
   "execution_count": 18,
   "metadata": {},
   "outputs": [],
   "source": [
    "# Убираем отмененные заказы:\n",
    "\n",
    "df = df.query(\"action != 'cancel_order'\")"
   ]
  },
  {
   "cell_type": "markdown",
   "metadata": {},
   "source": [
    "## Определим метрики, по которым будем оценивать качество сервиса:\n",
    "1. ### Среднее количество товаров в заказе\n",
    "2. ### Среднее количество заказов\n",
    "3. ### Средний чек"
   ]
  },
  {
   "cell_type": "markdown",
   "metadata": {},
   "source": [
    "## 1. Среднее количество товаров в заказе"
   ]
  },
  {
   "cell_type": "code",
   "execution_count": 19,
   "metadata": {},
   "outputs": [],
   "source": [
    "# Для удобства обозначим тестовую группу как А, контрольную В\n",
    "df['group'] = df['group'].astype(str).replace({'1': 'A', \"0\": 'B'})"
   ]
  },
  {
   "cell_type": "code",
   "execution_count": 20,
   "metadata": {},
   "outputs": [
    {
     "data": {
      "text/html": [
       "<div>\n",
       "<style scoped>\n",
       "    .dataframe tbody tr th:only-of-type {\n",
       "        vertical-align: middle;\n",
       "    }\n",
       "\n",
       "    .dataframe tbody tr th {\n",
       "        vertical-align: top;\n",
       "    }\n",
       "\n",
       "    .dataframe thead th {\n",
       "        text-align: right;\n",
       "    }\n",
       "</style>\n",
       "<table border=\"1\" class=\"dataframe\">\n",
       "  <thead>\n",
       "    <tr style=\"text-align: right;\">\n",
       "      <th></th>\n",
       "      <th>user_id</th>\n",
       "      <th>group</th>\n",
       "      <th>order_id</th>\n",
       "      <th>item</th>\n",
       "    </tr>\n",
       "  </thead>\n",
       "  <tbody>\n",
       "    <tr>\n",
       "      <th>0</th>\n",
       "      <td>964</td>\n",
       "      <td>B</td>\n",
       "      <td>1255</td>\n",
       "      <td>4</td>\n",
       "    </tr>\n",
       "    <tr>\n",
       "      <th>1</th>\n",
       "      <td>964</td>\n",
       "      <td>B</td>\n",
       "      <td>1257</td>\n",
       "      <td>4</td>\n",
       "    </tr>\n",
       "    <tr>\n",
       "      <th>2</th>\n",
       "      <td>965</td>\n",
       "      <td>A</td>\n",
       "      <td>1256</td>\n",
       "      <td>3</td>\n",
       "    </tr>\n",
       "    <tr>\n",
       "      <th>3</th>\n",
       "      <td>965</td>\n",
       "      <td>A</td>\n",
       "      <td>3946</td>\n",
       "      <td>4</td>\n",
       "    </tr>\n",
       "    <tr>\n",
       "      <th>4</th>\n",
       "      <td>965</td>\n",
       "      <td>A</td>\n",
       "      <td>9097</td>\n",
       "      <td>6</td>\n",
       "    </tr>\n",
       "  </tbody>\n",
       "</table>\n",
       "</div>"
      ],
      "text/plain": [
       "   user_id group  order_id  item\n",
       "0      964     B      1255     4\n",
       "1      964     B      1257     4\n",
       "2      965     A      1256     3\n",
       "3      965     A      3946     4\n",
       "4      965     A      9097     6"
      ]
     },
     "execution_count": 20,
     "metadata": {},
     "output_type": "execute_result"
    }
   ],
   "source": [
    "prods = df.groupby(['user_id', 'group', 'order_id'])\\\n",
    "          .agg({'product_id': 'nunique'})\\\n",
    "          .rename(columns={'product_id': 'item'})\\\n",
    "          .reset_index()\n",
    "prods.head()"
   ]
  },
  {
   "cell_type": "code",
   "execution_count": 21,
   "metadata": {},
   "outputs": [],
   "source": [
    "# Отберем и сформируем группы:\n",
    "prods_test = prods[prods['group'] == 'A']['item']\n",
    "prods_control = prods[prods['group'] == 'B']['item']"
   ]
  },
  {
   "cell_type": "code",
   "execution_count": 22,
   "metadata": {},
   "outputs": [
    {
     "data": {
      "text/html": [
       "<div>\n",
       "<style scoped>\n",
       "    .dataframe tbody tr th:only-of-type {\n",
       "        vertical-align: middle;\n",
       "    }\n",
       "\n",
       "    .dataframe tbody tr th {\n",
       "        vertical-align: top;\n",
       "    }\n",
       "\n",
       "    .dataframe thead th {\n",
       "        text-align: right;\n",
       "    }\n",
       "</style>\n",
       "<table border=\"1\" class=\"dataframe\">\n",
       "  <thead>\n",
       "    <tr style=\"text-align: right;\">\n",
       "      <th></th>\n",
       "      <th>count</th>\n",
       "      <th>mean</th>\n",
       "      <th>std</th>\n",
       "      <th>min</th>\n",
       "      <th>5%</th>\n",
       "      <th>25%</th>\n",
       "      <th>50%</th>\n",
       "      <th>75%</th>\n",
       "      <th>95%</th>\n",
       "      <th>99%</th>\n",
       "      <th>max</th>\n",
       "    </tr>\n",
       "  </thead>\n",
       "  <tbody>\n",
       "    <tr>\n",
       "      <th>item</th>\n",
       "      <td>4121.0</td>\n",
       "      <td>3.284154</td>\n",
       "      <td>1.25743</td>\n",
       "      <td>1.0</td>\n",
       "      <td>1.0</td>\n",
       "      <td>2.0</td>\n",
       "      <td>3.0</td>\n",
       "      <td>4.0</td>\n",
       "      <td>5.0</td>\n",
       "      <td>6.0</td>\n",
       "      <td>7.0</td>\n",
       "    </tr>\n",
       "  </tbody>\n",
       "</table>\n",
       "</div>"
      ],
      "text/plain": [
       "       count      mean      std  min   5%  25%  50%  75%  95%  99%  max\n",
       "item  4121.0  3.284154  1.25743  1.0  1.0  2.0  3.0  4.0  5.0  6.0  7.0"
      ]
     },
     "execution_count": 22,
     "metadata": {},
     "output_type": "execute_result"
    }
   ],
   "source": [
    "prods = prods[prods.item < prods.item.max()]\n",
    "\n",
    "prods.describe([0.05, 0.25, 0.50, 0.75, 0.95, 0.99])[[\"item\"]].T"
   ]
  },
  {
   "cell_type": "code",
   "execution_count": 23,
   "metadata": {},
   "outputs": [
    {
     "data": {
      "text/html": [
       "<div>\n",
       "<style scoped>\n",
       "    .dataframe tbody tr th:only-of-type {\n",
       "        vertical-align: middle;\n",
       "    }\n",
       "\n",
       "    .dataframe tbody tr th {\n",
       "        vertical-align: top;\n",
       "    }\n",
       "\n",
       "    .dataframe thead th {\n",
       "        text-align: right;\n",
       "    }\n",
       "</style>\n",
       "<table border=\"1\" class=\"dataframe\">\n",
       "  <thead>\n",
       "    <tr style=\"text-align: right;\">\n",
       "      <th></th>\n",
       "      <th>count</th>\n",
       "      <th>median</th>\n",
       "      <th>mean</th>\n",
       "      <th>std</th>\n",
       "      <th>max</th>\n",
       "    </tr>\n",
       "    <tr>\n",
       "      <th>group</th>\n",
       "      <th></th>\n",
       "      <th></th>\n",
       "      <th></th>\n",
       "      <th></th>\n",
       "      <th></th>\n",
       "    </tr>\n",
       "  </thead>\n",
       "  <tbody>\n",
       "    <tr>\n",
       "      <th>A</th>\n",
       "      <td>2512</td>\n",
       "      <td>3</td>\n",
       "      <td>3.284236</td>\n",
       "      <td>1.263880</td>\n",
       "      <td>7</td>\n",
       "    </tr>\n",
       "    <tr>\n",
       "      <th>B</th>\n",
       "      <td>1609</td>\n",
       "      <td>3</td>\n",
       "      <td>3.284027</td>\n",
       "      <td>1.247684</td>\n",
       "      <td>7</td>\n",
       "    </tr>\n",
       "  </tbody>\n",
       "</table>\n",
       "</div>"
      ],
      "text/plain": [
       "       count  median      mean       std  max\n",
       "group                                        \n",
       "A       2512       3  3.284236  1.263880    7\n",
       "B       1609       3  3.284027  1.247684    7"
      ]
     },
     "execution_count": 23,
     "metadata": {},
     "output_type": "execute_result"
    }
   ],
   "source": [
    "prods.groupby(\"group\").item\\\n",
    "     .agg([\"count\", \"median\", \"mean\", \"std\", \"max\"])"
   ]
  },
  {
   "cell_type": "code",
   "execution_count": 24,
   "metadata": {},
   "outputs": [
    {
     "data": {
      "image/png": "[encoded data removed]",
      "text/plain": [
       "<Figure size 720x576 with 4 Axes>"
      ]
     },
     "metadata": {
      "needs_background": "light"
     },
     "output_type": "display_data"
    }
   ],
   "source": [
    "# Применим функцию для визуализации распределений\n",
    "\n",
    "qqbox(test=prods_test, control=prods_control)"
   ]
  },
  {
   "cell_type": "code",
   "execution_count": 25,
   "metadata": {},
   "outputs": [
    {
     "name": "stdout",
     "output_type": "stream",
     "text": [
      "Распределение в обеих группах не принадлежит к нормальному\n",
      "p_value тестовой группы = 3.119132882505791e-31\n",
      "p_value контрольной группы = 5.1697472489226224e-26\n"
     ]
    }
   ],
   "source": [
    "normality(test=prods_test, control=prods_control)"
   ]
  },
  {
   "cell_type": "markdown",
   "metadata": {},
   "source": [
    "### Сравним группы между собой\n",
    "Для сравнения средних будем использовать **t-test**, т.к.<br>\n",
    "в выборках у нас достаточно большое количество наблюдений, отсутствие значимых<br>\n",
    "выбросов, а также дисперсии в обеих группах гомогенны.<br> \n",
    "Поэтому нормальность распределений не критична<br>\n",
    "\n",
    "Сформулируем проверяемые гипотезы:<br>\n",
    "**H0**: Среднее количество товаров в заказе в группах не отличаются между собой;<br>\n",
    "**H1**: Среднее количество товаров в заказе в группах статистически значимо отличаются"
   ]
  },
  {
   "cell_type": "code",
   "execution_count": 26,
   "metadata": {},
   "outputs": [
    {
     "data": {
      "image/png": "[encoded data removed]",
      "text/plain": [
       "<Figure size 720x576 with 1 Axes>"
      ]
     },
     "metadata": {
      "needs_background": "light"
     },
     "output_type": "display_data"
    },
    {
     "name": "stdout",
     "output_type": "stream",
     "text": [
      "Наблюдений в тестовой группе: 2514\n",
      "Наблюдений в контрольной группе: 1609\n",
      "Дисперсии гомогенны\n",
      "Результаты теста:\n",
      "Статистика: 0.09831810423573856\n",
      "p-value: 0.9216844843645677\n",
      "H0: A==B - Группы не различаются!\n"
     ]
    }
   ],
   "source": [
    "# Используем функцию t-test\n",
    "\n",
    "t_test(test=prods_test, control=prods_control)"
   ]
  },
  {
   "cell_type": "code",
   "execution_count": 27,
   "metadata": {},
   "outputs": [
    {
     "data": {
      "text/plain": [
       "group\n",
       "A    3.284236\n",
       "B    3.284027\n",
       "Name: item, dtype: float64"
      ]
     },
     "execution_count": 27,
     "metadata": {},
     "output_type": "execute_result"
    }
   ],
   "source": [
    "# Посмотрим на фактические средние в группах\n",
    "\n",
    "prods.groupby('group').item.mean()"
   ]
  },
  {
   "cell_type": "markdown",
   "metadata": {},
   "source": [
    "Также, применим **bootstrap** средних и посмотрим<br>\n",
    "совпадут ли результаты.<br>\n",
    "\n",
    "**H0** - средние значения групп равны<br>\n",
    "**H1** - средние значения групп не равны"
   ]
  },
  {
   "cell_type": "code",
   "execution_count": 28,
   "metadata": {},
   "outputs": [
    {
     "name": "stderr",
     "output_type": "stream",
     "text": [
      "100%|██████████| 10000/10000 [00:21<00:00, 467.60it/s]\n"
     ]
    },
    {
     "data": {
      "image/png": "[encoded data removed]",
      "text/plain": [
       "<Figure size 432x288 with 1 Axes>"
      ]
     },
     "metadata": {
      "needs_background": "light"
     },
     "output_type": "display_data"
    },
    {
     "name": "stdout",
     "output_type": "stream",
     "text": [
      "Доверительный интервал: [-0.06563246  0.07319014]\n"
     ]
    }
   ],
   "source": [
    "bootstrap(test=prods_test, control=prods_control)"
   ]
  },
  {
   "cell_type": "markdown",
   "metadata": {},
   "source": [
    "0 принадлежит доверительному интервалу<br>\n",
    "\n",
    "\n",
    "С помощью метода **bootstrap** мы посчитали разницу средних в наших группах,<br>\n",
    "построили доверительный интервал и посмотрели входит ли 0 в этот интервал.<br>\n",
    "Т.к. он входит в него, то средние значения в группах не отличаются между собой<br>\n",
    "\n",
    "**Вывод**: по результатам тестов, значимых различий по среднему количеству<br>\n",
    "товаров в заказе между контрольной и тестовой группами нет"
   ]
  },
  {
   "cell_type": "markdown",
   "metadata": {},
   "source": [
    "## 2. Среднее количество заказов"
   ]
  },
  {
   "cell_type": "code",
   "execution_count": 29,
   "metadata": {},
   "outputs": [],
   "source": [
    "users_order['group'] = users_order['group'].astype(str).replace({'1': 'A', \"0\": 'B'})"
   ]
  },
  {
   "cell_type": "code",
   "execution_count": 30,
   "metadata": {},
   "outputs": [
    {
     "data": {
      "text/html": [
       "<div>\n",
       "<style scoped>\n",
       "    .dataframe tbody tr th:only-of-type {\n",
       "        vertical-align: middle;\n",
       "    }\n",
       "\n",
       "    .dataframe tbody tr th {\n",
       "        vertical-align: top;\n",
       "    }\n",
       "\n",
       "    .dataframe thead th {\n",
       "        text-align: right;\n",
       "    }\n",
       "</style>\n",
       "<table border=\"1\" class=\"dataframe\">\n",
       "  <thead>\n",
       "    <tr style=\"text-align: right;\">\n",
       "      <th></th>\n",
       "      <th>group</th>\n",
       "      <th>user_id</th>\n",
       "      <th>quantity</th>\n",
       "    </tr>\n",
       "  </thead>\n",
       "  <tbody>\n",
       "    <tr>\n",
       "      <th>0</th>\n",
       "      <td>A</td>\n",
       "      <td>965</td>\n",
       "      <td>9</td>\n",
       "    </tr>\n",
       "    <tr>\n",
       "      <th>1</th>\n",
       "      <td>A</td>\n",
       "      <td>967</td>\n",
       "      <td>5</td>\n",
       "    </tr>\n",
       "    <tr>\n",
       "      <th>2</th>\n",
       "      <td>A</td>\n",
       "      <td>970</td>\n",
       "      <td>2</td>\n",
       "    </tr>\n",
       "    <tr>\n",
       "      <th>3</th>\n",
       "      <td>A</td>\n",
       "      <td>971</td>\n",
       "      <td>5</td>\n",
       "    </tr>\n",
       "    <tr>\n",
       "      <th>4</th>\n",
       "      <td>A</td>\n",
       "      <td>973</td>\n",
       "      <td>5</td>\n",
       "    </tr>\n",
       "  </tbody>\n",
       "</table>\n",
       "</div>"
      ],
      "text/plain": [
       "  group  user_id  quantity\n",
       "0     A      965         9\n",
       "1     A      967         5\n",
       "2     A      970         2\n",
       "3     A      971         5\n",
       "4     A      973         5"
      ]
     },
     "execution_count": 30,
     "metadata": {},
     "output_type": "execute_result"
    }
   ],
   "source": [
    "orders = users_order.groupby(['group', 'user_id'])\\\n",
    "                    .agg({'order_id': 'count'})\\\n",
    "                    .rename(columns={\"order_id\": 'quantity'})\\\n",
    "                    .reset_index()\n",
    "orders.head()"
   ]
  },
  {
   "cell_type": "code",
   "execution_count": 31,
   "metadata": {},
   "outputs": [],
   "source": [
    "orders_test = orders[orders['group'] == 'A']['quantity']\n",
    "orders_control = orders[orders['group'] == 'B']['quantity']"
   ]
  },
  {
   "cell_type": "code",
   "execution_count": 32,
   "metadata": {},
   "outputs": [
    {
     "data": {
      "text/html": [
       "<div>\n",
       "<style scoped>\n",
       "    .dataframe tbody tr th:only-of-type {\n",
       "        vertical-align: middle;\n",
       "    }\n",
       "\n",
       "    .dataframe tbody tr th {\n",
       "        vertical-align: top;\n",
       "    }\n",
       "\n",
       "    .dataframe thead th {\n",
       "        text-align: right;\n",
       "    }\n",
       "</style>\n",
       "<table border=\"1\" class=\"dataframe\">\n",
       "  <thead>\n",
       "    <tr style=\"text-align: right;\">\n",
       "      <th></th>\n",
       "      <th>count</th>\n",
       "      <th>mean</th>\n",
       "      <th>std</th>\n",
       "      <th>min</th>\n",
       "      <th>5%</th>\n",
       "      <th>25%</th>\n",
       "      <th>50%</th>\n",
       "      <th>75%</th>\n",
       "      <th>95%</th>\n",
       "      <th>99%</th>\n",
       "      <th>max</th>\n",
       "    </tr>\n",
       "  </thead>\n",
       "  <tbody>\n",
       "    <tr>\n",
       "      <th>quantity</th>\n",
       "      <td>1016.0</td>\n",
       "      <td>4.252953</td>\n",
       "      <td>2.399506</td>\n",
       "      <td>1.0</td>\n",
       "      <td>1.0</td>\n",
       "      <td>2.0</td>\n",
       "      <td>4.0</td>\n",
       "      <td>6.0</td>\n",
       "      <td>9.0</td>\n",
       "      <td>11.0</td>\n",
       "      <td>15.0</td>\n",
       "    </tr>\n",
       "  </tbody>\n",
       "</table>\n",
       "</div>"
      ],
      "text/plain": [
       "           count      mean       std  min   5%  25%  50%  75%  95%   99%   max\n",
       "quantity  1016.0  4.252953  2.399506  1.0  1.0  2.0  4.0  6.0  9.0  11.0  15.0"
      ]
     },
     "execution_count": 32,
     "metadata": {},
     "output_type": "execute_result"
    }
   ],
   "source": [
    "orders = orders[orders.quantity < orders.quantity.max()]\n",
    "\n",
    "orders.describe([0.05, 0.25, 0.50, 0.75, 0.95, 0.99])[[\"quantity\"]].T"
   ]
  },
  {
   "cell_type": "code",
   "execution_count": 33,
   "metadata": {},
   "outputs": [
    {
     "data": {
      "text/html": [
       "<div>\n",
       "<style scoped>\n",
       "    .dataframe tbody tr th:only-of-type {\n",
       "        vertical-align: middle;\n",
       "    }\n",
       "\n",
       "    .dataframe tbody tr th {\n",
       "        vertical-align: top;\n",
       "    }\n",
       "\n",
       "    .dataframe thead th {\n",
       "        text-align: right;\n",
       "    }\n",
       "</style>\n",
       "<table border=\"1\" class=\"dataframe\">\n",
       "  <thead>\n",
       "    <tr style=\"text-align: right;\">\n",
       "      <th></th>\n",
       "      <th>count</th>\n",
       "      <th>median</th>\n",
       "      <th>mean</th>\n",
       "      <th>std</th>\n",
       "      <th>max</th>\n",
       "    </tr>\n",
       "    <tr>\n",
       "      <th>group</th>\n",
       "      <th></th>\n",
       "      <th></th>\n",
       "      <th></th>\n",
       "      <th></th>\n",
       "      <th></th>\n",
       "    </tr>\n",
       "  </thead>\n",
       "  <tbody>\n",
       "    <tr>\n",
       "      <th>A</th>\n",
       "      <td>501</td>\n",
       "      <td>5</td>\n",
       "      <td>5.249501</td>\n",
       "      <td>2.343422</td>\n",
       "      <td>15</td>\n",
       "    </tr>\n",
       "    <tr>\n",
       "      <th>B</th>\n",
       "      <td>515</td>\n",
       "      <td>3</td>\n",
       "      <td>3.283495</td>\n",
       "      <td>2.029265</td>\n",
       "      <td>13</td>\n",
       "    </tr>\n",
       "  </tbody>\n",
       "</table>\n",
       "</div>"
      ],
      "text/plain": [
       "       count  median      mean       std  max\n",
       "group                                        \n",
       "A        501       5  5.249501  2.343422   15\n",
       "B        515       3  3.283495  2.029265   13"
      ]
     },
     "execution_count": 33,
     "metadata": {},
     "output_type": "execute_result"
    }
   ],
   "source": [
    "orders.groupby(\"group\").quantity\\\n",
    "     .agg([\"count\", \"median\", \"mean\", \"std\", \"max\"])"
   ]
  },
  {
   "cell_type": "code",
   "execution_count": 34,
   "metadata": {},
   "outputs": [
    {
     "data": {
      "image/png": "[encoded data removed]",
      "text/plain": [
       "<Figure size 720x576 with 4 Axes>"
      ]
     },
     "metadata": {
      "needs_background": "light"
     },
     "output_type": "display_data"
    }
   ],
   "source": [
    "# Применим функцию для визуализации распределений\n",
    "\n",
    "qqbox(test=orders_test, control=orders_control)"
   ]
  },
  {
   "cell_type": "code",
   "execution_count": 35,
   "metadata": {},
   "outputs": [
    {
     "name": "stdout",
     "output_type": "stream",
     "text": [
      "Распределение в обеих группах не принадлежит к нормальному\n",
      "p_value тестовой группы = 8.639834681023473e-11\n",
      "p_value контрольной группы = 1.032206798753868e-21\n"
     ]
    }
   ],
   "source": [
    "normality(test=orders_test, control=orders_control)"
   ]
  },
  {
   "cell_type": "code",
   "execution_count": 36,
   "metadata": {},
   "outputs": [
    {
     "data": {
      "text/plain": [
       "LeveneResult(statistic=15.214827164983237, pvalue=0.00010226129327774369)"
      ]
     },
     "execution_count": 36,
     "metadata": {},
     "output_type": "execute_result"
    }
   ],
   "source": [
    "stats.levene(orders_test, orders_control) # гомогенность дисперсий"
   ]
  },
  {
   "cell_type": "markdown",
   "metadata": {},
   "source": [
    "### Сравним группы между собой"
   ]
  },
  {
   "cell_type": "markdown",
   "metadata": {},
   "source": [
    "Тест Шапиро-Уилка на нормальность распределения показал, что распределения<br>\n",
    "в тестовой и контрольной группах не принадлежит к нормальному. Кроме того,<br>\n",
    "требование гомогенности дисперсий также не соблюдено(pvalue < 0.05).<br>\n",
    "\n",
    "Для сравнения средних будет использован метод **bootstrap**.<br>\n",
    "**H0** - средние значения групп равны<br>\n",
    "**H1** - средние значения групп не равны"
   ]
  },
  {
   "cell_type": "code",
   "execution_count": 37,
   "metadata": {},
   "outputs": [
    {
     "name": "stderr",
     "output_type": "stream",
     "text": [
      "100%|██████████| 10000/10000 [00:19<00:00, 506.14it/s]\n"
     ]
    },
    {
     "data": {
      "image/png": "[encoded data removed]",
      "text/plain": [
       "<Figure size 864x432 with 1 Axes>"
      ]
     },
     "metadata": {
      "needs_background": "light"
     },
     "output_type": "display_data"
    },
    {
     "name": "stdout",
     "output_type": "stream",
     "text": [
      "Доверительный интервал: [1.71650485 2.25436893]\n"
     ]
    }
   ],
   "source": [
    "bootstrap(test=orders_test, control=orders_control)"
   ]
  },
  {
   "cell_type": "code",
   "execution_count": 38,
   "metadata": {},
   "outputs": [
    {
     "data": {
      "text/plain": [
       "group\n",
       "A    5.25\n",
       "B    3.28\n",
       "Name: quantity, dtype: float64"
      ]
     },
     "execution_count": 38,
     "metadata": {},
     "output_type": "execute_result"
    }
   ],
   "source": [
    "orders.groupby('group').quantity.mean().round(2)"
   ]
  },
  {
   "cell_type": "markdown",
   "metadata": {},
   "source": [
    "По результатам теста видим, что 0 не включен в доверительный интервал,<br>\n",
    "а значит, у нас есть все основания полагать, что между двумя группами<br>\n",
    "есть статистически значимая разница.<br>\n",
    "\n",
    "**Вывод**: между группами имеется статистически значимое различие<br>\n",
    "по среднему количеству заказов. "
   ]
  },
  {
   "cell_type": "markdown",
   "metadata": {},
   "source": [
    "## 3. Средний чек"
   ]
  },
  {
   "cell_type": "code",
   "execution_count": 39,
   "metadata": {},
   "outputs": [
    {
     "data": {
      "text/html": [
       "<div>\n",
       "<style scoped>\n",
       "    .dataframe tbody tr th:only-of-type {\n",
       "        vertical-align: middle;\n",
       "    }\n",
       "\n",
       "    .dataframe tbody tr th {\n",
       "        vertical-align: top;\n",
       "    }\n",
       "\n",
       "    .dataframe thead th {\n",
       "        text-align: right;\n",
       "    }\n",
       "</style>\n",
       "<table border=\"1\" class=\"dataframe\">\n",
       "  <thead>\n",
       "    <tr style=\"text-align: right;\">\n",
       "      <th></th>\n",
       "      <th>user_id</th>\n",
       "      <th>order_id</th>\n",
       "      <th>group</th>\n",
       "      <th>revenue</th>\n",
       "    </tr>\n",
       "  </thead>\n",
       "  <tbody>\n",
       "    <tr>\n",
       "      <th>0</th>\n",
       "      <td>964</td>\n",
       "      <td>1255</td>\n",
       "      <td>B</td>\n",
       "      <td>408.7</td>\n",
       "    </tr>\n",
       "    <tr>\n",
       "      <th>1</th>\n",
       "      <td>964</td>\n",
       "      <td>1257</td>\n",
       "      <td>B</td>\n",
       "      <td>310.2</td>\n",
       "    </tr>\n",
       "    <tr>\n",
       "      <th>2</th>\n",
       "      <td>965</td>\n",
       "      <td>1256</td>\n",
       "      <td>A</td>\n",
       "      <td>250.5</td>\n",
       "    </tr>\n",
       "    <tr>\n",
       "      <th>3</th>\n",
       "      <td>965</td>\n",
       "      <td>3946</td>\n",
       "      <td>A</td>\n",
       "      <td>860.6</td>\n",
       "    </tr>\n",
       "    <tr>\n",
       "      <th>4</th>\n",
       "      <td>965</td>\n",
       "      <td>9097</td>\n",
       "      <td>A</td>\n",
       "      <td>608.2</td>\n",
       "    </tr>\n",
       "  </tbody>\n",
       "</table>\n",
       "</div>"
      ],
      "text/plain": [
       "   user_id  order_id group  revenue\n",
       "0      964      1255     B    408.7\n",
       "1      964      1257     B    310.2\n",
       "2      965      1256     A    250.5\n",
       "3      965      3946     A    860.6\n",
       "4      965      9097     A    608.2"
      ]
     },
     "execution_count": 39,
     "metadata": {},
     "output_type": "execute_result"
    }
   ],
   "source": [
    "average_check = df.groupby(['user_id', 'order_id', 'group'], as_index=False)\\\n",
    "               .agg({'price': 'sum'})\\\n",
    "               .rename(columns={'price': 'revenue'})\n",
    "average_check.head()"
   ]
  },
  {
   "cell_type": "code",
   "execution_count": 40,
   "metadata": {},
   "outputs": [],
   "source": [
    "average_test = average_check[average_check['group'] == 'A']['revenue']\n",
    "average_control = average_check[average_check['group'] == 'B']['revenue']"
   ]
  },
  {
   "cell_type": "code",
   "execution_count": 41,
   "metadata": {},
   "outputs": [
    {
     "data": {
      "text/html": [
       "<div>\n",
       "<style scoped>\n",
       "    .dataframe tbody tr th:only-of-type {\n",
       "        vertical-align: middle;\n",
       "    }\n",
       "\n",
       "    .dataframe tbody tr th {\n",
       "        vertical-align: top;\n",
       "    }\n",
       "\n",
       "    .dataframe thead th {\n",
       "        text-align: right;\n",
       "    }\n",
       "</style>\n",
       "<table border=\"1\" class=\"dataframe\">\n",
       "  <thead>\n",
       "    <tr style=\"text-align: right;\">\n",
       "      <th></th>\n",
       "      <th>count</th>\n",
       "      <th>mean</th>\n",
       "      <th>std</th>\n",
       "      <th>min</th>\n",
       "      <th>5%</th>\n",
       "      <th>25%</th>\n",
       "      <th>50%</th>\n",
       "      <th>75%</th>\n",
       "      <th>95%</th>\n",
       "      <th>99%</th>\n",
       "      <th>max</th>\n",
       "    </tr>\n",
       "  </thead>\n",
       "  <tbody>\n",
       "    <tr>\n",
       "      <th>revenue</th>\n",
       "      <td>4122.0</td>\n",
       "      <td>373.819942</td>\n",
       "      <td>245.581484</td>\n",
       "      <td>1.0</td>\n",
       "      <td>85.0</td>\n",
       "      <td>194.55</td>\n",
       "      <td>313.0</td>\n",
       "      <td>508.625</td>\n",
       "      <td>860.59</td>\n",
       "      <td>1165.158</td>\n",
       "      <td>1668.6</td>\n",
       "    </tr>\n",
       "  </tbody>\n",
       "</table>\n",
       "</div>"
      ],
      "text/plain": [
       "          count        mean         std  min    5%     25%    50%      75%  \\\n",
       "revenue  4122.0  373.819942  245.581484  1.0  85.0  194.55  313.0  508.625   \n",
       "\n",
       "            95%       99%     max  \n",
       "revenue  860.59  1165.158  1668.6  "
      ]
     },
     "execution_count": 41,
     "metadata": {},
     "output_type": "execute_result"
    }
   ],
   "source": [
    "average_check = average_check[average_check.revenue < average_check.revenue.max()]\n",
    "\n",
    "average_check.describe([0.05, 0.25, 0.50, 0.75, 0.95, 0.99])[[\"revenue\"]].T"
   ]
  },
  {
   "cell_type": "code",
   "execution_count": 42,
   "metadata": {},
   "outputs": [
    {
     "data": {
      "text/html": [
       "<div>\n",
       "<style scoped>\n",
       "    .dataframe tbody tr th:only-of-type {\n",
       "        vertical-align: middle;\n",
       "    }\n",
       "\n",
       "    .dataframe tbody tr th {\n",
       "        vertical-align: top;\n",
       "    }\n",
       "\n",
       "    .dataframe thead th {\n",
       "        text-align: right;\n",
       "    }\n",
       "</style>\n",
       "<table border=\"1\" class=\"dataframe\">\n",
       "  <thead>\n",
       "    <tr style=\"text-align: right;\">\n",
       "      <th></th>\n",
       "      <th>count</th>\n",
       "      <th>median</th>\n",
       "      <th>mean</th>\n",
       "      <th>std</th>\n",
       "      <th>max</th>\n",
       "    </tr>\n",
       "    <tr>\n",
       "      <th>group</th>\n",
       "      <th></th>\n",
       "      <th></th>\n",
       "      <th></th>\n",
       "      <th></th>\n",
       "      <th></th>\n",
       "    </tr>\n",
       "  </thead>\n",
       "  <tbody>\n",
       "    <tr>\n",
       "      <th>A</th>\n",
       "      <td>2513</td>\n",
       "      <td>306.7</td>\n",
       "      <td>369.039793</td>\n",
       "      <td>245.454749</td>\n",
       "      <td>1641.1</td>\n",
       "    </tr>\n",
       "    <tr>\n",
       "      <th>B</th>\n",
       "      <td>1609</td>\n",
       "      <td>326.3</td>\n",
       "      <td>381.285768</td>\n",
       "      <td>245.669506</td>\n",
       "      <td>1668.6</td>\n",
       "    </tr>\n",
       "  </tbody>\n",
       "</table>\n",
       "</div>"
      ],
      "text/plain": [
       "       count  median        mean         std     max\n",
       "group                                               \n",
       "A       2513   306.7  369.039793  245.454749  1641.1\n",
       "B       1609   326.3  381.285768  245.669506  1668.6"
      ]
     },
     "execution_count": 42,
     "metadata": {},
     "output_type": "execute_result"
    }
   ],
   "source": [
    "average_check.groupby(\"group\").revenue\\\n",
    "     .agg([\"count\", \"median\", \"mean\", \"std\", \"max\"])"
   ]
  },
  {
   "cell_type": "code",
   "execution_count": 43,
   "metadata": {},
   "outputs": [
    {
     "data": {
      "image/png": "[encoded data removed]",
      "text/plain": [
       "<Figure size 720x576 with 4 Axes>"
      ]
     },
     "metadata": {
      "needs_background": "light"
     },
     "output_type": "display_data"
    }
   ],
   "source": [
    "qqbox(test=average_test, control=average_control)"
   ]
  },
  {
   "cell_type": "code",
   "execution_count": 44,
   "metadata": {},
   "outputs": [
    {
     "name": "stdout",
     "output_type": "stream",
     "text": [
      "Распределение в обеих группах не принадлежит к нормальному\n",
      "p_value тестовой группы = 2.2913337444601104e-37\n",
      "p_value контрольной группы = 1.347362172388217e-28\n"
     ]
    }
   ],
   "source": [
    "normality(test=average_test, control=average_control)"
   ]
  },
  {
   "cell_type": "code",
   "execution_count": 45,
   "metadata": {},
   "outputs": [
    {
     "data": {
      "text/plain": [
       "LeveneResult(statistic=0.2630999575712736, pvalue=0.6080258899079423)"
      ]
     },
     "execution_count": 45,
     "metadata": {},
     "output_type": "execute_result"
    }
   ],
   "source": [
    "stats.levene(average_test, average_control)"
   ]
  },
  {
   "cell_type": "markdown",
   "metadata": {},
   "source": [
    "pvalue: 0.6080258899079423 > 0.05 - требование гомогенности дисперсий выполняется"
   ]
  },
  {
   "cell_type": "markdown",
   "metadata": {},
   "source": [
    "Для сравнения средних используем **t-test**<br>\n",
    "\n",
    "Сформулируем проверяемые гипотезы:<br>\n",
    "**H0**: Средние чеки в группах не отличаются между собой;<br>\n",
    "**H1**: Средние чеки в группах статистически значимо различаются"
   ]
  },
  {
   "cell_type": "code",
   "execution_count": 46,
   "metadata": {},
   "outputs": [
    {
     "data": {
      "image/png": "[encoded data removed]",
      "text/plain": [
       "<Figure size 720x576 with 1 Axes>"
      ]
     },
     "metadata": {
      "needs_background": "light"
     },
     "output_type": "display_data"
    },
    {
     "name": "stdout",
     "output_type": "stream",
     "text": [
      "Наблюдений в тестовой группе: 2514\n",
      "Наблюдений в контрольной группе: 1609\n",
      "Дисперсии гомогенны\n",
      "Результаты теста:\n",
      "Статистика: -1.4815692121713073\n",
      "p-value: 0.13853141121218765\n",
      "H0: A==B - Группы не различаются!\n"
     ]
    }
   ],
   "source": [
    "t_test(test=average_test, control=average_control)"
   ]
  },
  {
   "cell_type": "markdown",
   "metadata": {},
   "source": [
    "По результатам теста, мы не можем отклонить нулевую гипотезу.<br>\n",
    "\n",
    "\n",
    "Применим метод bootstrap к группам и сравним результаты тестов.<br>\n",
    "**H0** - средние значения групп равны<br>\n",
    "**H1** - средние значения групп не равны"
   ]
  },
  {
   "cell_type": "code",
   "execution_count": 47,
   "metadata": {},
   "outputs": [
    {
     "name": "stderr",
     "output_type": "stream",
     "text": [
      "100%|██████████| 10000/10000 [00:23<00:00, 427.36it/s]\n"
     ]
    },
    {
     "data": {
      "image/png": "[encoded data removed]",
      "text/plain": [
       "<Figure size 864x432 with 1 Axes>"
      ]
     },
     "metadata": {
      "needs_background": "light"
     },
     "output_type": "display_data"
    },
    {
     "name": "stdout",
     "output_type": "stream",
     "text": [
      "Доверительный интервал: [-25.51354912   2.13660998]\n"
     ]
    }
   ],
   "source": [
    "bootstrap(test=average_test, control=average_control)"
   ]
  },
  {
   "cell_type": "markdown",
   "metadata": {},
   "source": [
    "Т.к. 0 входит в доверительный интервал, то мы не можем отклонить нулевую гипотезу<br>\n",
    "о равенстве средних в группах."
   ]
  },
  {
   "cell_type": "code",
   "execution_count": 48,
   "metadata": {},
   "outputs": [
    {
     "data": {
      "text/plain": [
       "group\n",
       "A    369.039793\n",
       "B    381.285768\n",
       "Name: revenue, dtype: float64"
      ]
     },
     "execution_count": 48,
     "metadata": {},
     "output_type": "execute_result"
    }
   ],
   "source": [
    "average_check.groupby('group').revenue.mean() "
   ]
  },
  {
   "cell_type": "markdown",
   "metadata": {},
   "source": [
    "## Основные выводы<br>\n",
    "\n",
    "\n",
    "1. **Среднее количество заказов**: статистически значимая разница в этой метрике показывает,<br>\n",
    "что в группе с новой системой рекомендаций пользователи совершают больше заказов. Это может говорить о том,<br>\n",
    "что новая система действительно помогает пользователям эффективнее взаимодействовать с приложением и<br>\n",
    "находить необходимые товары.<br>\n",
    "2. **Среднее количество товаров в заказе**: новая система рекомендаций не повлияла на эту метрику,<br>\n",
    "однако это может быть обусловлено наличием специальных предложений или акций на определенные продукты.<br>\n",
    "3. **Средний чек**: отсутствие статистически значимой разницы в этой метрике может означать,<br>\n",
    "что новая система рекомендаций не повлияла на средний чек заказов. Возможно, пользователи<br>\n",
    "новой системы рекомендаций стали делать больше, но мелких покупок, а возможно, что<br>\n",
    "рост этой метрики будет заметен на более длительной временной дистанции. Следует проанализировать<br>\n",
    "какие товары добавляют в заказы, чтобы понять, как можно увеличить средний чек через систему рекомендаций.<br>\n",
    "\n",
    "Новая система действительно помогает пользователям более эффективно взаимодействовать с приложением.<br>\n",
    "Если посчитать среднюю выручку с пользователя (которая как раз складывается из среднего чека и среднего<br> числа заказов), то мы увидим явный прирост выручки, что, очевидно, полезно для бизнеса.<br>\n",
    " Смогла ли новая система рекомендаций принести пользу пользователям - да, смогла.<br>\n",
    " Поэтому я считаю, что **стоит** раскатывать новую систему рекомендаций на всех пользователей."
   ]
  },
  {
   "cell_type": "code",
   "execution_count": null,
   "metadata": {},
   "outputs": [],
   "source": []
  }
 ],
 "metadata": {
  "kernelspec": {
   "display_name": "Python 3",
   "language": "python",
   "name": "python3"
  },
  "language_info": {
   "codemirror_mode": {
    "name": "ipython",
    "version": 3
   },
   "file_extension": ".py",
   "mimetype": "text/x-python",
   "name": "python",
   "nbconvert_exporter": "python",
   "pygments_lexer": "ipython3",
   "version": "3.7.3"
  }
 },
 "nbformat": 4,
 "nbformat_minor": 4
}
